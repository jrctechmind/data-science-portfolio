{
  "nbformat": 4,
  "nbformat_minor": 0,
  "metadata": {
    "colab": {
      "provenance": [],
      "authorship_tag": "ABX9TyPRiP92JMlN8El6+hJgSR0N",
      "include_colab_link": true
    },
    "kernelspec": {
      "name": "python3",
      "display_name": "Python 3"
    },
    "language_info": {
      "name": "python"
    }
  },
  "cells": [
    {
      "cell_type": "markdown",
      "metadata": {
        "id": "view-in-github",
        "colab_type": "text"
      },
      "source": [
        "<a href=\"https://colab.research.google.com/github/jrctechmind/data-science-portfolio/blob/main/Clustering_e_Recomenda%C3%A7%C3%A3o.ipynb\" target=\"_parent\"><img src=\"https://colab.research.google.com/assets/colab-badge.svg\" alt=\"Open In Colab\"/></a>"
      ]
    },
    {
      "cell_type": "code",
      "execution_count": 1,
      "metadata": {
        "colab": {
          "base_uri": "https://localhost:8080/"
        },
        "id": "_aWK42o07wrO",
        "outputId": "b4052cb5-7e77-4f53-a033-e3c96207f406"
      },
      "outputs": [
        {
          "output_type": "stream",
          "name": "stdout",
          "text": [
            "Recomendações para o filme 'A':\n",
            "1    B\n",
            "2    C\n",
            "3    D\n",
            "Name: filme, dtype: object\n"
          ]
        },
        {
          "output_type": "stream",
          "name": "stderr",
          "text": [
            "/usr/local/lib/python3.10/dist-packages/sklearn/cluster/_kmeans.py:870: FutureWarning: The default value of `n_init` will change from 10 to 'auto' in 1.4. Set the value of `n_init` explicitly to suppress the warning\n",
            "  warnings.warn(\n"
          ]
        }
      ],
      "source": [
        "# Importando bibliotecas necessárias\n",
        "import pandas as pd\n",
        "import numpy as np\n",
        "from sklearn.cluster import KMeans, AgglomerativeClustering\n",
        "from sklearn.metrics import silhouette_score\n",
        "from sklearn.preprocessing import StandardScaler\n",
        "from sklearn.decomposition import PCA\n",
        "from sklearn.metrics.pairwise import cosine_similarity\n",
        "\n",
        "# Suponha que você tenha um conjunto de dados disponível, por exemplo, em um arquivo CSV\n",
        "# Aqui estamos apenas criando um DataFrame fictício para ilustrar o exemplo\n",
        "dados = {\n",
        "    'filme': ['A', 'B', 'C', 'D', 'E'],\n",
        "    'genero': ['Ação', 'Comédia', 'Drama', 'Ação', 'Comédia'],\n",
        "    'ator_principal': ['Tom', 'Emma', 'Tom', 'Emma', 'Tom'],\n",
        "    'diretor': ['X', 'Y', 'X', 'Y', 'X'],\n",
        "    'idade': [120, 100, 90, 80, 110],\n",
        "    'avaliacao': [4.5, 3.5, 4.0, 4.0, 3.5],\n",
        "    'receita': [1000000, 800000, 600000, 900000, 700000]\n",
        "}\n",
        "\n",
        "df = pd.DataFrame(dados)\n",
        "\n",
        "# Limpeza de dados (se necessário)\n",
        "# Por exemplo, lidar com valores ausentes, converter tipos de dados, etc.\n",
        "\n",
        "# Selecionando features relevantes para o clustering\n",
        "X_clustering = df[['idade', 'avaliacao', 'receita']]\n",
        "\n",
        "# Normalizando os dados\n",
        "scaler = StandardScaler()\n",
        "X_clustering_scaled = scaler.fit_transform(X_clustering)\n",
        "\n",
        "# Aplicando PCA para redução de dimensionalidade\n",
        "pca = PCA(n_components=2)\n",
        "X_clustering_pca = pca.fit_transform(X_clustering_scaled)\n",
        "\n",
        "# Clustering com KMeans\n",
        "kmeans = KMeans(n_clusters=2, random_state=42)\n",
        "kmeans.fit(X_clustering_pca)\n",
        "df['cluster_kmeans'] = kmeans.labels_\n",
        "\n",
        "# Clustering Hierárquico\n",
        "agglomerative = AgglomerativeClustering(n_clusters=2)\n",
        "agglomerative.fit(X_clustering_pca)\n",
        "df['cluster_hierarchical'] = agglomerative.labels_\n",
        "\n",
        "# Sistema de Recomendação (Content Based Filtering)\n",
        "# Calculando similaridade de cosseno entre os filmes com base em seus recursos\n",
        "X_recomendacao = df[['idade', 'avaliacao', 'receita']]\n",
        "similaridade = cosine_similarity(X_recomendacao)\n",
        "\n",
        "# Função para obter recomendações para um filme específico\n",
        "def get_recomendacoes(filme):\n",
        "    indice_filme = df[df['filme'] == filme].index[0]\n",
        "    sim_scores = list(enumerate(similaridade[indice_filme]))\n",
        "    sim_scores = sorted(sim_scores, key=lambda x: x[1], reverse=True)\n",
        "    sim_scores = sim_scores[1:4]\n",
        "    indices_filmes_similares = [i[0] for i in sim_scores]\n",
        "    return df['filme'].iloc[indices_filmes_similares]\n",
        "\n",
        "# Testando o sistema de recomendação\n",
        "print(\"Recomendações para o filme 'A':\")\n",
        "print(get_recomendacoes('A'))\n"
      ]
    }
  ]
}
{
  "nbformat": 4,
  "nbformat_minor": 0,
  "metadata": {
    "colab": {
      "provenance": [],
      "authorship_tag": "ABX9TyMMLCeTPk8mIOBFLSRF/K+R",
      "include_colab_link": true
    },
    "kernelspec": {
      "name": "python3",
      "display_name": "Python 3"
    },
    "language_info": {
      "name": "python"
    }
  },
  "cells": [
    {
      "cell_type": "markdown",
      "metadata": {
        "id": "view-in-github",
        "colab_type": "text"
      },
      "source": [
        "<a href=\"https://colab.research.google.com/github/jrctechmind/data-science-portfolio/blob/main/Business_Understanding.ipynb\" target=\"_parent\"><img src=\"https://colab.research.google.com/assets/colab-badge.svg\" alt=\"Open In Colab\"/></a>"
      ]
    },
    {
      "cell_type": "code",
      "execution_count": 1,
      "metadata": {
        "colab": {
          "base_uri": "https://localhost:8080/"
        },
        "id": "fY31vjkA3lkL",
        "outputId": "9a51fef6-f347-4f67-a9ea-769c66ef2fdb"
      },
      "outputs": [
        {
          "output_type": "stream",
          "name": "stdout",
          "text": [
            "Primeiros registros do DataFrame:\n",
            "   id_cliente  idade  renda_anual  score_de_credito objetivo_compra\n",
            "0           1     25        50000                50           Carro\n",
            "1           2     30        60000                60            Casa\n",
            "2           3     35        70000                70           Carro\n",
            "3           4     40        80000                80            Casa\n",
            "4           5     45        90000                90           Carro\n",
            "\n",
            "Objetivos Comerciais:\n",
            "Objetivo 1: Aumentar as vendas de carros em 20% nos próximos 6 meses\n",
            "Objetivo 2: Aumentar a aquisição de clientes com score de crédito acima de 70\n",
            "Objetivo 3: Aumentar a renda anual média dos clientes em 10% até o final do ano\n",
            "\n",
            "Métricas Relevantes:\n",
            "Métrica 1: Taxa de conversão de vendas de carros\n",
            "Métrica 2: Percentual de novos clientes com score de crédito acima de 70\n",
            "Métrica 3: Média da renda anual dos clientes\n"
          ]
        }
      ],
      "source": [
        "# Importando bibliotecas necessárias\n",
        "import pandas as pd\n",
        "\n",
        "# Suponha que você tenha um conjunto de dados disponível, por exemplo, em um arquivo CSV\n",
        "# Aqui estamos apenas criando um DataFrame fictício para ilustrar o exemplo\n",
        "dados = {\n",
        "    'id_cliente': [1, 2, 3, 4, 5],\n",
        "    'idade': [25, 30, 35, 40, 45],\n",
        "    'renda_anual': [50000, 60000, 70000, 80000, 90000],\n",
        "    'score_de_credito': [50, 60, 70, 80, 90],\n",
        "    'objetivo_compra': ['Carro', 'Casa', 'Carro', 'Casa', 'Carro']\n",
        "}\n",
        "\n",
        "df = pd.DataFrame(dados)\n",
        "\n",
        "# Exibindo os primeiros registros do DataFrame para entender a estrutura dos dados\n",
        "print(\"Primeiros registros do DataFrame:\")\n",
        "print(df.head())\n",
        "\n",
        "# Definindo os objetivos comerciais e métricas relevantes para avaliar o sucesso\n",
        "objetivos_comerciais = {\n",
        "    '1': 'Aumentar as vendas de carros em 20% nos próximos 6 meses',\n",
        "    '2': 'Aumentar a aquisição de clientes com score de crédito acima de 70',\n",
        "    '3': 'Aumentar a renda anual média dos clientes em 10% até o final do ano'\n",
        "}\n",
        "\n",
        "metricas_relevantes = {\n",
        "    '1': 'Taxa de conversão de vendas de carros',\n",
        "    '2': 'Percentual de novos clientes com score de crédito acima de 70',\n",
        "    '3': 'Média da renda anual dos clientes'\n",
        "}\n",
        "\n",
        "# Exibindo os objetivos comerciais e métricas relevantes\n",
        "print(\"\\nObjetivos Comerciais:\")\n",
        "for chave, valor in objetivos_comerciais.items():\n",
        "    print(f\"Objetivo {chave}: {valor}\")\n",
        "\n",
        "print(\"\\nMétricas Relevantes:\")\n",
        "for chave, valor in metricas_relevantes.items():\n",
        "    print(f\"Métrica {chave}: {valor}\")\n"
      ]
    }
  ]
}